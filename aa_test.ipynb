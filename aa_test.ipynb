{
 "cells": [
  {
   "cell_type": "markdown",
   "id": "4880b0cc-6580-4a41-99f4-a8f0ee3262a9",
   "metadata": {},
   "source": [
    "### Дано: \n",
    "Есть данные АА-теста с 2022-10-26 по 2022-11-01. \n",
    "\n",
    "Группы (колонка exp_group): 0 и 1 - контрольные группы, 2 и 3 - тестовые группы.\n",
    "\n",
    "Предположим, что на тестовых группах развертывались 2 новых алгоритма рекомендации постов.\n",
    "\n",
    "### Задание:\n",
    "Провести симмуляцию 10 тыс АА-тестов между группами 0-3 и 1-2. α=0.05. Пользователи заранее уже разбиты на группы.\n"
   ]
  },
  {
   "cell_type": "code",
   "execution_count": 2,
   "id": "4a77a7e5-08ad-481f-883a-6985124756ed",
   "metadata": {
    "pycharm": {
     "is_executing": true
    }
   },
   "outputs": [],
   "source": [
    "import pandas as pd\n",
    "import seaborn as sns\n",
    "import numpy as np\n",
    "import matplotlib.pyplot as plt\n",
    "from scipy import stats"
   ]
  },
  {
   "cell_type": "markdown",
   "id": "9f41f25a-b575-49e6-87a7-c633ede7676b",
   "metadata": {},
   "source": [
    "### Загрузим данные из файла data for aa-test.csv и проверим количество пользователей в группах"
   ]
  },
  {
   "cell_type": "code",
   "execution_count": 7,
   "id": "be2e7438",
   "metadata": {},
   "outputs": [],
   "source": [
    "df = pd.read_csv(r\"C:\\Users\\belik\\Desktop\\data for aa-test.csv\")"
   ]
  },
  {
   "cell_type": "code",
   "execution_count": 9,
   "id": "9255f577-d859-45ae-b308-a65c13ff6605",
   "metadata": {},
   "outputs": [
    {
     "data": {
      "text/html": [
       "<div>\n",
       "<style scoped>\n",
       "    .dataframe tbody tr th:only-of-type {\n",
       "        vertical-align: middle;\n",
       "    }\n",
       "\n",
       "    .dataframe tbody tr th {\n",
       "        vertical-align: top;\n",
       "    }\n",
       "\n",
       "    .dataframe thead th {\n",
       "        text-align: right;\n",
       "    }\n",
       "</style>\n",
       "<table border=\"1\" class=\"dataframe\">\n",
       "  <thead>\n",
       "    <tr style=\"text-align: right;\">\n",
       "      <th></th>\n",
       "      <th>exp_group</th>\n",
       "      <th>user_id</th>\n",
       "      <th>likes</th>\n",
       "      <th>views</th>\n",
       "      <th>ctr</th>\n",
       "    </tr>\n",
       "  </thead>\n",
       "  <tbody>\n",
       "    <tr>\n",
       "      <th>0</th>\n",
       "      <td>3</td>\n",
       "      <td>115383</td>\n",
       "      <td>11</td>\n",
       "      <td>36</td>\n",
       "      <td>0.305556</td>\n",
       "    </tr>\n",
       "    <tr>\n",
       "      <th>1</th>\n",
       "      <td>1</td>\n",
       "      <td>18392</td>\n",
       "      <td>8</td>\n",
       "      <td>39</td>\n",
       "      <td>0.205128</td>\n",
       "    </tr>\n",
       "    <tr>\n",
       "      <th>2</th>\n",
       "      <td>3</td>\n",
       "      <td>123580</td>\n",
       "      <td>15</td>\n",
       "      <td>92</td>\n",
       "      <td>0.163043</td>\n",
       "    </tr>\n",
       "    <tr>\n",
       "      <th>3</th>\n",
       "      <td>2</td>\n",
       "      <td>131473</td>\n",
       "      <td>26</td>\n",
       "      <td>148</td>\n",
       "      <td>0.175676</td>\n",
       "    </tr>\n",
       "    <tr>\n",
       "      <th>4</th>\n",
       "      <td>4</td>\n",
       "      <td>107323</td>\n",
       "      <td>5</td>\n",
       "      <td>26</td>\n",
       "      <td>0.192308</td>\n",
       "    </tr>\n",
       "  </tbody>\n",
       "</table>\n",
       "</div>"
      ],
      "text/plain": [
       "   exp_group  user_id  likes  views       ctr\n",
       "0          3   115383     11     36  0.305556\n",
       "1          1    18392      8     39  0.205128\n",
       "2          3   123580     15     92  0.163043\n",
       "3          2   131473     26    148  0.175676\n",
       "4          4   107323      5     26  0.192308"
      ]
     },
     "execution_count": 9,
     "metadata": {},
     "output_type": "execute_result"
    }
   ],
   "source": [
    "df.head(5)"
   ]
  },
  {
   "cell_type": "code",
   "execution_count": 10,
   "id": "f00722b2-0270-4dec-b1c0-6c5b267b9103",
   "metadata": {
    "scrolled": true
   },
   "outputs": [
    {
     "data": {
      "text/html": [
       "<div>\n",
       "<style scoped>\n",
       "    .dataframe tbody tr th:only-of-type {\n",
       "        vertical-align: middle;\n",
       "    }\n",
       "\n",
       "    .dataframe tbody tr th {\n",
       "        vertical-align: top;\n",
       "    }\n",
       "\n",
       "    .dataframe thead th {\n",
       "        text-align: right;\n",
       "    }\n",
       "</style>\n",
       "<table border=\"1\" class=\"dataframe\">\n",
       "  <thead>\n",
       "    <tr style=\"text-align: right;\">\n",
       "      <th></th>\n",
       "      <th>user_id</th>\n",
       "      <th>likes</th>\n",
       "      <th>views</th>\n",
       "      <th>ctr</th>\n",
       "    </tr>\n",
       "    <tr>\n",
       "      <th>exp_group</th>\n",
       "      <th></th>\n",
       "      <th></th>\n",
       "      <th></th>\n",
       "      <th></th>\n",
       "    </tr>\n",
       "  </thead>\n",
       "  <tbody>\n",
       "    <tr>\n",
       "      <th>0</th>\n",
       "      <td>8484</td>\n",
       "      <td>8484</td>\n",
       "      <td>8484</td>\n",
       "      <td>8484</td>\n",
       "    </tr>\n",
       "    <tr>\n",
       "      <th>1</th>\n",
       "      <td>8537</td>\n",
       "      <td>8537</td>\n",
       "      <td>8537</td>\n",
       "      <td>8537</td>\n",
       "    </tr>\n",
       "    <tr>\n",
       "      <th>2</th>\n",
       "      <td>8480</td>\n",
       "      <td>8480</td>\n",
       "      <td>8480</td>\n",
       "      <td>8480</td>\n",
       "    </tr>\n",
       "    <tr>\n",
       "      <th>3</th>\n",
       "      <td>8569</td>\n",
       "      <td>8569</td>\n",
       "      <td>8569</td>\n",
       "      <td>8569</td>\n",
       "    </tr>\n",
       "    <tr>\n",
       "      <th>4</th>\n",
       "      <td>8515</td>\n",
       "      <td>8515</td>\n",
       "      <td>8515</td>\n",
       "      <td>8515</td>\n",
       "    </tr>\n",
       "  </tbody>\n",
       "</table>\n",
       "</div>"
      ],
      "text/plain": [
       "           user_id  likes  views   ctr\n",
       "exp_group                             \n",
       "0             8484   8484   8484  8484\n",
       "1             8537   8537   8537  8537\n",
       "2             8480   8480   8480  8480\n",
       "3             8569   8569   8569  8569\n",
       "4             8515   8515   8515  8515"
      ]
     },
     "execution_count": 10,
     "metadata": {},
     "output_type": "execute_result"
    }
   ],
   "source": [
    "# проверяем количество пользователей в группах\n",
    "df.groupby('exp_group').count()"
   ]
  },
  {
   "cell_type": "markdown",
   "id": "f046edb3-09b2-4c12-ace9-71ea71e5df3b",
   "metadata": {},
   "source": [
    "#### количество пользователей группах примерно одинаковое"
   ]
  },
  {
   "cell_type": "markdown",
   "id": "d539f79e",
   "metadata": {},
   "source": [
    "### АА-тест между группами 0 и 3"
   ]
  },
  {
   "cell_type": "code",
   "execution_count": 12,
   "id": "ad770aa4-15f0-4fc6-9ee1-6f08a1e2ed96",
   "metadata": {},
   "outputs": [],
   "source": [
    "# настраивоем отображение гистограммы\n",
    "sns.set(rc={'figure.figsize': (11.7, 8.27)})"
   ]
  },
  {
   "cell_type": "code",
   "execution_count": 13,
   "id": "f3ffb473-8b5f-4e44-9116-2d1ef6335558",
   "metadata": {
    "jupyter": {
     "source_hidden": true
    },
    "tags": []
   },
   "outputs": [],
   "source": [
    "exp_group_0 = df[df.exp_group == 0]\n",
    "exp_group_3 = df[df.exp_group == 3]"
   ]
  },
  {
   "cell_type": "code",
   "execution_count": 14,
   "id": "d667fa87-5d69-4e27-800f-1d4d3c8a2b9d",
   "metadata": {},
   "outputs": [],
   "source": [
    "# проводим симмуляцию 10000 тестов и для каждого считаем p-value\n",
    "test = pd.DataFrame()\n",
    "for i in range (10000):\n",
    "    samle_0 = exp_group_0.ctr.sample(500, replace=False).tolist()\n",
    "    samle_3 = exp_group_3.ctr.sample(500, replace=False).tolist()\n",
    "    pvalue = stats.ttest_ind(samle_0, samle_3, equal_var=False)\n",
    "    test.loc[i, 'data'] = pvalue[1]"
   ]
  },
  {
   "cell_type": "code",
   "execution_count": 15,
   "id": "6a8bc1e5-10c9-4fdc-8ec6-132d61c2b84c",
   "metadata": {},
   "outputs": [
    {
     "data": {
      "text/plain": [
       "<AxesSubplot:xlabel='data', ylabel='Count'>"
      ]
     },
     "execution_count": 15,
     "metadata": {},
     "output_type": "execute_result"
    },
    {
     "data": {
      "image/png": "[encoded data removed]",
      "text/plain": [
       "<Figure size 842.4x595.44 with 1 Axes>"
      ]
     },
     "metadata": {},
     "output_type": "display_data"
    }
   ],
   "source": [
    "# строим гистограмму распределения p-value\n",
    "sns.histplot(data=test,\n",
    "                      x='data',\n",
    "                      alpha = 0.5,\n",
    "                      bins=100,\n",
    "                      kde = False)"
   ]
  },
  {
   "cell_type": "code",
   "execution_count": 16,
   "id": "ef1b2267-188e-427e-aebf-db339015f90c",
   "metadata": {},
   "outputs": [
    {
     "data": {
      "text/plain": [
       "data    0.0481\n",
       "dtype: float64"
      ]
     },
     "execution_count": 16,
     "metadata": {},
     "output_type": "execute_result"
    }
   ],
   "source": [
    "# считаем % p-value, которые меньше 0.05\n",
    "test[test.data<= 0.05].count() / test.data.count()"
   ]
  },
  {
   "cell_type": "markdown",
   "id": "5db05d8f-af7a-4018-ae82-5fdafd302189",
   "metadata": {},
   "source": [
    "#### Вывод:около 5 % pvalue наших 10 тыс тестов АА между группами 0 и 3 выходят за границы 5% уровня значимости. Поэтому мы можем принять, что наша система сплитования корректно работает."
   ]
  },
  {
   "cell_type": "markdown",
   "id": "f71b7c6d-7454-41ec-89e8-9ebce6cd233f",
   "metadata": {},
   "source": [
    "### АА-тест между группами 1 и 2"
   ]
  },
  {
   "cell_type": "code",
   "execution_count": 18,
   "id": "e5fb3d53-e0aa-4611-8851-84ab7169db2b",
   "metadata": {},
   "outputs": [],
   "source": [
    "exp_group_1 = df[df.exp_group == 1]\n",
    "exp_group_2 = df[df.exp_group == 2]"
   ]
  },
  {
   "cell_type": "code",
   "execution_count": 19,
   "id": "4d99a02e-d19d-4285-bc43-b4baab6d428a",
   "metadata": {},
   "outputs": [],
   "source": [
    "# проводим симмуляцию 10000 тестов и для каждого считаем p-value\n",
    "test_2 = pd.DataFrame()\n",
    "for i in range (10000):\n",
    "    samle_1 = exp_group_1.ctr.sample(500, replace=False).tolist()\n",
    "    samle_2 = exp_group_2.ctr.sample(500, replace=False).tolist()\n",
    "    pvalue = stats.ttest_ind(samle_1, samle_2, equal_var=False)\n",
    "    test_2.loc[i, 'data_2'] = pvalue[1]"
   ]
  },
  {
   "cell_type": "code",
   "execution_count": 20,
   "id": "947f83fe-d313-49a8-9cc6-bbf3835f9a89",
   "metadata": {},
   "outputs": [
    {
     "data": {
      "text/plain": [
       "<AxesSubplot:xlabel='data_2', ylabel='Count'>"
      ]
     },
     "execution_count": 20,
     "metadata": {},
     "output_type": "execute_result"
    },
    {
     "data": {
      "image/png": "[encoded data removed]",
      "text/plain": [
       "<Figure size 842.4x595.44 with 1 Axes>"
      ]
     },
     "metadata": {},
     "output_type": "display_data"
    }
   ],
   "source": [
    "# строим гистограмму распределения p-value\n",
    "sns.histplot(data=test_2,\n",
    "                      x='data_2',\n",
    "                      alpha = 0.5,\n",
    "                      bins=100,\n",
    "                      kde = False)"
   ]
  },
  {
   "cell_type": "code",
   "execution_count": 21,
   "id": "7f04dfef-4b5a-4e9e-bbc9-763698a1a91d",
   "metadata": {},
   "outputs": [
    {
     "data": {
      "text/plain": [
       "data    0.0481\n",
       "dtype: float64"
      ]
     },
     "execution_count": 21,
     "metadata": {},
     "output_type": "execute_result"
    }
   ],
   "source": [
    "# считаем % p-value, которые меньше 0.05\n",
    "test[test.data<= 0.05].count() / test.data.count()"
   ]
  },
  {
   "cell_type": "markdown",
   "id": "fa26688b-38c4-4df3-92ad-db039fb600d6",
   "metadata": {},
   "source": [
    "#### Вывод: околое 5 % pvalue наших 10 тыс тестов АА между группами 1 и 2 выходят за границы 5% уровня значимости. Поэтому мы можем принять, что наша система сплитования корректно работает."
   ]
  }
 ],
 "metadata": {
  "kernelspec": {
   "display_name": "Python 3 (ipykernel)",
   "language": "python",
   "name": "python3"
  },
  "language_info": {
   "codemirror_mode": {
    "name": "ipython",
    "version": 3
   },
   "file_extension": ".py",
   "mimetype": "text/x-python",
   "name": "python",
   "nbconvert_exporter": "python",
   "pygments_lexer": "ipython3",
   "version": "3.9.12"
  }
 },
 "nbformat": 4,
 "nbformat_minor": 5
}
