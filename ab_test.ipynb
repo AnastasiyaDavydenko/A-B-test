{
 "cells": [
  {
   "cell_type": "markdown",
   "id": "1d97c875-0974-4143-bdfd-092a3a03e506",
   "metadata": {},
   "source": [
    "### Дано: \n",
    "Есть данные AB-теста с 2022-11-02 по 2022-11-08. \n",
    "\n",
    "Группы (колонка exp_group): 1 - контрольная группа, 2 - тестовая группа.\n",
    "\n",
    "Предположим, что на тестовых группах развертывались новые алгоритмы рекомендации постов.\n",
    "\n",
    "### Задание:\n",
    "Провести АВ-тест между группами 1 и 2. α=0.05"
   ]
  },
  {
   "cell_type": "code",
   "execution_count": 2,
   "id": "917855c9-6310-4664-b5fa-20ac59418e4e",
   "metadata": {},
   "outputs": [],
   "source": [
    "import pandas as pd\n",
    "import seaborn as sns\n",
    "import numpy as np\n",
    "import matplotlib.pyplot as plt\n",
    "from scipy import stats"
   ]
  },
  {
   "cell_type": "markdown",
   "id": "cf0edd58-49f8-40e6-ad09-25e0ef89c030",
   "metadata": {},
   "source": [
    "#### АВ-тест между группами 1 и 2"
   ]
  },
  {
   "cell_type": "code",
   "execution_count": 36,
   "id": "9e358532",
   "metadata": {},
   "outputs": [],
   "source": [
    "df = pd.read_csv(r\"C:\\Users\\belik\\Desktop\\data for ab-test.csv\")"
   ]
  },
  {
   "cell_type": "code",
   "execution_count": 10,
   "id": "ab606f62-0016-4912-83c8-e1269a7d6971",
   "metadata": {},
   "outputs": [
    {
     "data": {
      "text/html": [
       "<div>\n",
       "<style scoped>\n",
       "    .dataframe tbody tr th:only-of-type {\n",
       "        vertical-align: middle;\n",
       "    }\n",
       "\n",
       "    .dataframe tbody tr th {\n",
       "        vertical-align: top;\n",
       "    }\n",
       "\n",
       "    .dataframe thead th {\n",
       "        text-align: right;\n",
       "    }\n",
       "</style>\n",
       "<table border=\"1\" class=\"dataframe\">\n",
       "  <thead>\n",
       "    <tr style=\"text-align: right;\">\n",
       "      <th></th>\n",
       "      <th>exp_group</th>\n",
       "      <th>user_id</th>\n",
       "      <th>likes</th>\n",
       "      <th>views</th>\n",
       "      <th>ctr</th>\n",
       "    </tr>\n",
       "  </thead>\n",
       "  <tbody>\n",
       "    <tr>\n",
       "      <th>0</th>\n",
       "      <td>1</td>\n",
       "      <td>109963</td>\n",
       "      <td>3</td>\n",
       "      <td>15</td>\n",
       "      <td>0.200000</td>\n",
       "    </tr>\n",
       "    <tr>\n",
       "      <th>1</th>\n",
       "      <td>1</td>\n",
       "      <td>26117</td>\n",
       "      <td>32</td>\n",
       "      <td>141</td>\n",
       "      <td>0.226950</td>\n",
       "    </tr>\n",
       "    <tr>\n",
       "      <th>2</th>\n",
       "      <td>1</td>\n",
       "      <td>138232</td>\n",
       "      <td>18</td>\n",
       "      <td>73</td>\n",
       "      <td>0.246575</td>\n",
       "    </tr>\n",
       "    <tr>\n",
       "      <th>3</th>\n",
       "      <td>1</td>\n",
       "      <td>26295</td>\n",
       "      <td>33</td>\n",
       "      <td>122</td>\n",
       "      <td>0.270492</td>\n",
       "    </tr>\n",
       "    <tr>\n",
       "      <th>4</th>\n",
       "      <td>1</td>\n",
       "      <td>18392</td>\n",
       "      <td>7</td>\n",
       "      <td>32</td>\n",
       "      <td>0.218750</td>\n",
       "    </tr>\n",
       "  </tbody>\n",
       "</table>\n",
       "</div>"
      ],
      "text/plain": [
       "   exp_group  user_id  likes  views       ctr\n",
       "0          1   109963      3     15  0.200000\n",
       "1          1    26117     32    141  0.226950\n",
       "2          1   138232     18     73  0.246575\n",
       "3          1    26295     33    122  0.270492\n",
       "4          1    18392      7     32  0.218750"
      ]
     },
     "execution_count": 10,
     "metadata": {},
     "output_type": "execute_result"
    }
   ],
   "source": [
    "df.head(5)"
   ]
  },
  {
   "cell_type": "code",
   "execution_count": 11,
   "id": "d9fa53e3-a307-4a42-8042-cf288644d947",
   "metadata": {},
   "outputs": [
    {
     "data": {
      "text/html": [
       "<div>\n",
       "<style scoped>\n",
       "    .dataframe tbody tr th:only-of-type {\n",
       "        vertical-align: middle;\n",
       "    }\n",
       "\n",
       "    .dataframe tbody tr th {\n",
       "        vertical-align: top;\n",
       "    }\n",
       "\n",
       "    .dataframe thead th {\n",
       "        text-align: right;\n",
       "    }\n",
       "</style>\n",
       "<table border=\"1\" class=\"dataframe\">\n",
       "  <thead>\n",
       "    <tr style=\"text-align: right;\">\n",
       "      <th></th>\n",
       "      <th>user_id</th>\n",
       "      <th>likes</th>\n",
       "      <th>views</th>\n",
       "      <th>ctr</th>\n",
       "    </tr>\n",
       "    <tr>\n",
       "      <th>exp_group</th>\n",
       "      <th></th>\n",
       "      <th></th>\n",
       "      <th></th>\n",
       "      <th></th>\n",
       "    </tr>\n",
       "  </thead>\n",
       "  <tbody>\n",
       "    <tr>\n",
       "      <th>1</th>\n",
       "      <td>10079</td>\n",
       "      <td>10079</td>\n",
       "      <td>10079</td>\n",
       "      <td>10079</td>\n",
       "    </tr>\n",
       "    <tr>\n",
       "      <th>2</th>\n",
       "      <td>9952</td>\n",
       "      <td>9952</td>\n",
       "      <td>9952</td>\n",
       "      <td>9952</td>\n",
       "    </tr>\n",
       "  </tbody>\n",
       "</table>\n",
       "</div>"
      ],
      "text/plain": [
       "           user_id  likes  views    ctr\n",
       "exp_group                              \n",
       "1            10079  10079  10079  10079\n",
       "2             9952   9952   9952   9952"
      ]
     },
     "execution_count": 11,
     "metadata": {},
     "output_type": "execute_result"
    }
   ],
   "source": [
    "# проверяем количество пользователей в группах 1 и 2\n",
    "df.groupby('exp_group').count()"
   ]
  },
  {
   "cell_type": "markdown",
   "id": "a51b67ae-21fc-40ca-bbb1-f7c8be8ac7a9",
   "metadata": {},
   "source": [
    "#### количество пользователей в обеих группах примерно одинаковое"
   ]
  },
  {
   "cell_type": "code",
   "execution_count": 12,
   "id": "3d5bc0d5-609a-46cf-beda-0ae27e868a3c",
   "metadata": {},
   "outputs": [],
   "source": [
    " # настраивоем отображение гистограммы\n",
    "sns.set(rc={'figure.figsize': (11.7, 8.27)})"
   ]
  },
  {
   "cell_type": "code",
   "execution_count": 13,
   "id": "fd8d42ed-01dd-4552-902e-ac3ff7195776",
   "metadata": {},
   "outputs": [
    {
     "data": {
      "text/plain": [
       "<AxesSubplot:xlabel='ctr', ylabel='Count'>"
      ]
     },
     "execution_count": 13,
     "metadata": {},
     "output_type": "execute_result"
    },
    {
     "data": {
      "image/png": "[encoded data removed]",
      "text/plain": [
       "<Figure size 842.4x595.44 with 1 Axes>"
      ]
     },
     "metadata": {},
     "output_type": "display_data"
    }
   ],
   "source": [
    "# визуализируем распределение значений ctr\n",
    "\n",
    "sns.histplot(data=df, \n",
    "             x='ctr', \n",
    "             hue='exp_group', \n",
    "             alpha = 0.5, \n",
    "             kde = False)"
   ]
  },
  {
   "cell_type": "markdown",
   "id": "acaada64-78bd-4b84-9548-5930b6fbdcb7",
   "metadata": {},
   "source": [
    "#### Распределение группы 2 визуально не похоже на нормальное, он имеет 2 вершины. Поскольку распределение во 2 группе не похоже на нормальное, то использовать t-критерий Стьюдента мы не можем, так как этот тест очень чувствителен к распределению."
   ]
  },
  {
   "cell_type": "code",
   "execution_count": 14,
   "id": "849c63c2-7579-4eb5-8fe9-ce749a269179",
   "metadata": {},
   "outputs": [
    {
     "data": {
      "text/plain": [
       "MannwhitneyuResult(statistic=43704947.5, pvalue=6.0376484617779035e-56)"
      ]
     },
     "execution_count": 14,
     "metadata": {},
     "output_type": "execute_result"
    }
   ],
   "source": [
    "# с помощью теста Манна-Уитни проверим гипорезу о равенстве значений в двух выборках\n",
    "\n",
    "stats.mannwhitneyu(df[df.exp_group == 2].ctr, df[df.exp_group == 1].ctr)"
   ]
  },
  {
   "cell_type": "markdown",
   "id": "ece2a4d8-e64b-43cc-94df-b9803c744b01",
   "metadata": {},
   "source": [
    "#### pvalue < 0.05, это означает, что статистчески не подтвержденно равенство средних двух выборок, гипотезу H0 мы не можем принять. Соответственно есть разница среди значений обеих выборок."
   ]
  },
  {
   "cell_type": "code",
   "execution_count": 15,
   "id": "5950eea8-d490-4a9c-98fa-b5e41982ba0a",
   "metadata": {},
   "outputs": [
    {
     "name": "stdout",
     "output_type": "stream",
     "text": [
      "В 44.26 % случаев значения выборки 2 больше значений выборки 1. Не близко к 50%\n"
     ]
    }
   ],
   "source": [
    "A_gt_B = 0\n",
    "\n",
    "for _ in range(10000):\n",
    "    A_gt_B+= df[df.exp_group == 2].ctr.sample().values[0] > df[df.exp_group == 1].ctr.sample().values[0]\n",
    "    \n",
    "print('В', A_gt_B/100, '% случаев значения выборки 2 больше значений выборки 1. Не близко к 50%')"
   ]
  },
  {
   "cell_type": "markdown",
   "id": "29a05cf7-bdac-4835-9079-48b6e06f2989",
   "metadata": {},
   "source": [
    "### Рассчитаем сглаженный CTR и посмотрим на его гистограммы распределения"
   ]
  },
  {
   "cell_type": "code",
   "execution_count": 16,
   "id": "691d7069-a7a3-473d-a03f-39e95e8b7d7d",
   "metadata": {},
   "outputs": [],
   "source": [
    "# сглаженный ctr\n",
    "\n",
    "def get_smothed_ctr(user_likes, user_views, global_ctr, alpha):\n",
    "    smothed_ctr = (user_likes + alpha * global_ctr) / (user_views + alpha)\n",
    "    return smothed_ctr"
   ]
  },
  {
   "cell_type": "code",
   "execution_count": 17,
   "id": "97b1a3e8-c6a9-49bb-a1e9-57e295bdb143",
   "metadata": {},
   "outputs": [],
   "source": [
    "global_ctr_1 = df[df.exp_group == 1].likes.sum()/df[df.exp_group == 1].views.sum()\n",
    "global_ctr_2 = df[df.exp_group == 2].likes.sum()/df[df.exp_group == 2].views.sum()"
   ]
  },
  {
   "cell_type": "code",
   "execution_count": 18,
   "id": "dfcccb07-21d0-4dac-beb2-9498f8b5de94",
   "metadata": {},
   "outputs": [],
   "source": [
    "group1 = df[df.exp_group == 1].copy()\n",
    "group2 = df[df.exp_group == 2].copy()"
   ]
  },
  {
   "cell_type": "code",
   "execution_count": 19,
   "id": "f2992057-2aa6-4dbd-802c-9aa664a2db58",
   "metadata": {},
   "outputs": [],
   "source": [
    "group1['smothed_ctr'] = df.apply(lambda x: get_smothed_ctr(x['likes'], x['views'], global_ctr_1, 5), axis=1)\n",
    "group2['smothed_ctr'] = df.apply(lambda x: get_smothed_ctr(x['likes'], x['views'], global_ctr_2, 5), axis=1)"
   ]
  },
  {
   "cell_type": "code",
   "execution_count": 20,
   "id": "ae84fb40-82ae-4b48-ab43-84784de7acf2",
   "metadata": {},
   "outputs": [
    {
     "name": "stderr",
     "output_type": "stream",
     "text": [
      "C:\\Users\\belik\\anaconda3\\lib\\site-packages\\seaborn\\distributions.py:2619: FutureWarning: `distplot` is a deprecated function and will be removed in a future version. Please adapt your code to use either `displot` (a figure-level function with similar flexibility) or `histplot` (an axes-level function for histograms).\n",
      "  warnings.warn(msg, FutureWarning)\n"
     ]
    },
    {
     "data": {
      "text/plain": [
       "<AxesSubplot:xlabel='smothed_ctr'>"
      ]
     },
     "execution_count": 20,
     "metadata": {},
     "output_type": "execute_result"
    },
    {
     "data": {
      "image/png": "[encoded data removed]",
      "text/plain": [
       "<Figure size 842.4x595.44 with 1 Axes>"
      ]
     },
     "metadata": {},
     "output_type": "display_data"
    }
   ],
   "source": [
    "sns.distplot(group2.smothed_ctr, kde = False)\n",
    "sns.distplot(group1.smothed_ctr, kde = False)"
   ]
  },
  {
   "cell_type": "code",
   "execution_count": 21,
   "id": "a108e6a8-0266-448c-aa4f-a6193923ee07",
   "metadata": {},
   "outputs": [
    {
     "data": {
      "text/plain": [
       "MannwhitneyuResult(statistic=43381083.0, pvalue=1.6163964114270227e-61)"
      ]
     },
     "execution_count": 21,
     "metadata": {},
     "output_type": "execute_result"
    }
   ],
   "source": [
    "# проведем тест Манна-Уитни на сглаженном ctr\n",
    "\n",
    "stats.mannwhitneyu(group2.smothed_ctr, group1.smothed_ctr)"
   ]
  },
  {
   "cell_type": "markdown",
   "id": "1af03806-cdf7-4247-b08a-d201b3bf3357",
   "metadata": {},
   "source": [
    "#### pvalue < 0.05, это означает, что статистчески не подтвержденно равенство средних двух выборок, гипотезу H0 мы не можем принять. Соответственно есть разница среди значений обеих выборок."
   ]
  },
  {
   "cell_type": "markdown",
   "id": "c145f682-2877-47cf-b478-7bd4d76d1700",
   "metadata": {},
   "source": [
    "### Проведем Пуассоновский бутстреп"
   ]
  },
  {
   "cell_type": "code",
   "execution_count": 22,
   "id": "1cb32056-edbe-4881-8fd4-e023d36cb939",
   "metadata": {},
   "outputs": [],
   "source": [
    "def bootstrap(likes1, views1, likes2, views2, n_bootstrap=2000):\n",
    "    poisson_bootstraps1 = stats.poisson(1).rvs((n_bootstrap, len(likes1))).astype(np.int64)\n",
    "    poisson_bootstraps2 = stats.poisson(1).rvs((n_bootstrap, len(likes2))).astype(np.int64)\n",
    "    globalCTR1 = (poisson_bootstraps1*likes1).sum(axis=1)/(poisson_bootstraps1*views1).sum(axis=1)\n",
    "    globalCTR2 = (poisson_bootstraps2*likes2).sum(axis=1)/(poisson_bootstraps2*views2).sum(axis=1)\n",
    "    return globalCTR1, globalCTR2"
   ]
  },
  {
   "cell_type": "code",
   "execution_count": 23,
   "id": "689c0c9e-b423-4f37-a56d-fa1f629284e5",
   "metadata": {},
   "outputs": [],
   "source": [
    "likes1 = df[df.exp_group == 1].likes.to_numpy()\n",
    "views1 = df[df.exp_group == 1].views.to_numpy()\n",
    "likes2 = df[df.exp_group == 2].likes.to_numpy()\n",
    "views2 = df[df.exp_group == 2].views.to_numpy()"
   ]
  },
  {
   "cell_type": "code",
   "execution_count": 24,
   "id": "ed71e29d-5677-4e36-9808-cb53edbcc6b4",
   "metadata": {},
   "outputs": [],
   "source": [
    "ctr1, ctr2 = bootstrap(likes1, views1, likes2, views2)"
   ]
  },
  {
   "cell_type": "code",
   "execution_count": 25,
   "id": "14270fb1-02f5-4b42-95e1-97fb7d8f5b04",
   "metadata": {},
   "outputs": [
    {
     "data": {
      "text/plain": [
       "<AxesSubplot:ylabel='Count'>"
      ]
     },
     "execution_count": 25,
     "metadata": {},
     "output_type": "execute_result"
    },
    {
     "data": {
      "image/png": "[encoded data removed]",
      "text/plain": [
       "<Figure size 842.4x595.44 with 1 Axes>"
      ]
     },
     "metadata": {},
     "output_type": "display_data"
    }
   ],
   "source": [
    "sns.histplot(ctr1)\n",
    "sns.histplot(ctr2)"
   ]
  },
  {
   "cell_type": "markdown",
   "id": "776f6a9e-91a8-42fb-8809-16ef6872504a",
   "metadata": {},
   "source": [
    "Распределение разниц глобальных ctr на гистограмме не пересекается, соответственно в одной группе ctr значительно выше, чем в другой."
   ]
  },
  {
   "cell_type": "code",
   "execution_count": 26,
   "id": "a238e568-2d1d-4133-98ac-1a9392772643",
   "metadata": {},
   "outputs": [
    {
     "data": {
      "text/plain": [
       "<AxesSubplot:ylabel='Count'>"
      ]
     },
     "execution_count": 26,
     "metadata": {},
     "output_type": "execute_result"
    },
    {
     "data": {
      "image/png": "[encoded data removed]",
      "text/plain": [
       "<Figure size 842.4x595.44 with 1 Axes>"
      ]
     },
     "metadata": {},
     "output_type": "display_data"
    }
   ],
   "source": [
    "# Постоим гистограмму разниц между глобальными CTR 1 и 2 группы\n",
    "sns.histplot(ctr2 - ctr1)"
   ]
  },
  {
   "cell_type": "markdown",
   "id": "a6c5826c-963a-49b3-a7c8-1473178c1e0d",
   "metadata": {},
   "source": [
    "#### Гистограмма разниц глобальных ctr не пересекает 0 и находится с левой стороны от 0. Соответственно, глобальный ctr группы 1 (контрольная группа) выше глобального ctr группы 2 (группа с новым алгоритмом рекомендации постов)\n",
    "#### На основании результатов Пуасоновского бутстрепа можно утверждать, что группа 1 (контрольная группа) показала лучший результат ctr, чем группа 2 (группа с новым алгоритмом рекомендации постов)."
   ]
  },
  {
   "cell_type": "markdown",
   "id": "7583bd4b-d598-4bff-ab62-41521aff6887",
   "metadata": {},
   "source": [
    "### Бакетное преобразование"
   ]
  },
  {
   "cell_type": "code",
   "execution_count": 37,
   "id": "cbac6b6e",
   "metadata": {},
   "outputs": [],
   "source": [
    "# используем данные из файла data for ab-test bucket.csv\n",
    "df_bucket = pd.read_csv(r\"C:\\Users\\belik\\Desktop\\data for ab-test bucket.csv\")"
   ]
  },
  {
   "cell_type": "code",
   "execution_count": 38,
   "id": "c6161ab0-5bcb-4572-bbc6-ba51aadf5515",
   "metadata": {},
   "outputs": [
    {
     "data": {
      "text/html": [
       "<div>\n",
       "<style scoped>\n",
       "    .dataframe tbody tr th:only-of-type {\n",
       "        vertical-align: middle;\n",
       "    }\n",
       "\n",
       "    .dataframe tbody tr th {\n",
       "        vertical-align: top;\n",
       "    }\n",
       "\n",
       "    .dataframe thead th {\n",
       "        text-align: right;\n",
       "    }\n",
       "</style>\n",
       "<table border=\"1\" class=\"dataframe\">\n",
       "  <thead>\n",
       "    <tr style=\"text-align: right;\">\n",
       "      <th></th>\n",
       "      <th>exp_group</th>\n",
       "      <th>bucket</th>\n",
       "      <th>bucket_ctr</th>\n",
       "      <th>ctr9</th>\n",
       "    </tr>\n",
       "  </thead>\n",
       "  <tbody>\n",
       "    <tr>\n",
       "      <th>0</th>\n",
       "      <td>1</td>\n",
       "      <td>0</td>\n",
       "      <td>0.196481</td>\n",
       "      <td>0.307692</td>\n",
       "    </tr>\n",
       "    <tr>\n",
       "      <th>1</th>\n",
       "      <td>2</td>\n",
       "      <td>0</td>\n",
       "      <td>0.194262</td>\n",
       "      <td>0.384615</td>\n",
       "    </tr>\n",
       "    <tr>\n",
       "      <th>2</th>\n",
       "      <td>1</td>\n",
       "      <td>1</td>\n",
       "      <td>0.211887</td>\n",
       "      <td>0.318182</td>\n",
       "    </tr>\n",
       "    <tr>\n",
       "      <th>3</th>\n",
       "      <td>2</td>\n",
       "      <td>1</td>\n",
       "      <td>0.215328</td>\n",
       "      <td>0.467742</td>\n",
       "    </tr>\n",
       "    <tr>\n",
       "      <th>4</th>\n",
       "      <td>1</td>\n",
       "      <td>2</td>\n",
       "      <td>0.206271</td>\n",
       "      <td>0.322314</td>\n",
       "    </tr>\n",
       "  </tbody>\n",
       "</table>\n",
       "</div>"
      ],
      "text/plain": [
       "   exp_group  bucket  bucket_ctr      ctr9\n",
       "0          1       0    0.196481  0.307692\n",
       "1          2       0    0.194262  0.384615\n",
       "2          1       1    0.211887  0.318182\n",
       "3          2       1    0.215328  0.467742\n",
       "4          1       2    0.206271  0.322314"
      ]
     },
     "execution_count": 38,
     "metadata": {},
     "output_type": "execute_result"
    }
   ],
   "source": [
    "df_bucket.head()"
   ]
  },
  {
   "cell_type": "code",
   "execution_count": 39,
   "id": "329eb835-8533-45d2-b04c-62cfcfe106ae",
   "metadata": {},
   "outputs": [
    {
     "data": {
      "text/plain": [
       "MannwhitneyuResult(statistic=1995.0, pvalue=2.859963936492646e-07)"
      ]
     },
     "execution_count": 39,
     "metadata": {},
     "output_type": "execute_result"
    }
   ],
   "source": [
    "#тест Манна-Уитни поверх бакетного преобразования\n",
    "stats.mannwhitneyu(df_bucket[df_bucket.exp_group == 1].bucket_ctr, \n",
    "                   df_bucket[df_bucket.exp_group == 2].bucket_ctr,\n",
    "                   alternative = 'two-sided')"
   ]
  },
  {
   "cell_type": "markdown",
   "id": "a6150264-fedd-40d2-96f1-7b09f65017b2",
   "metadata": {},
   "source": [
    "### pvalue < 0.05, соответственно тест Манна-Уитни поверх бакетного преобразования показал, что между группами есть различие в бакетном ctr."
   ]
  },
  {
   "cell_type": "code",
   "execution_count": 40,
   "id": "1addb219-81bb-4a40-9299-03893f0a281f",
   "metadata": {},
   "outputs": [
    {
     "data": {
      "text/plain": [
       "<AxesSubplot:xlabel='bucket_ctr', ylabel='Count'>"
      ]
     },
     "execution_count": 40,
     "metadata": {},
     "output_type": "execute_result"
    },
    {
     "data": {
      "image/png": "[encoded data removed]",
      "text/plain": [
       "<Figure size 842.4x595.44 with 1 Axes>"
      ]
     },
     "metadata": {},
     "output_type": "display_data"
    }
   ],
   "source": [
    "sns.histplot(df_bucket[df_bucket.exp_group == 1].bucket_ctr, bins=20)"
   ]
  },
  {
   "cell_type": "code",
   "execution_count": 41,
   "id": "fdbe8b14-3aa1-4a6a-a2ed-a84ff8e1bcdc",
   "metadata": {},
   "outputs": [
    {
     "data": {
      "text/plain": [
       "<AxesSubplot:xlabel='bucket_ctr', ylabel='Count'>"
      ]
     },
     "execution_count": 41,
     "metadata": {},
     "output_type": "execute_result"
    },
    {
     "data": {
      "image/png": "[encoded data removed]",
      "text/plain": [
       "<Figure size 842.4x595.44 with 1 Axes>"
      ]
     },
     "metadata": {},
     "output_type": "display_data"
    }
   ],
   "source": [
    "sns.histplot(df_bucket[df_bucket.exp_group == 2].bucket_ctr, bins=20)"
   ]
  },
  {
   "cell_type": "code",
   "execution_count": 42,
   "id": "1d40f2c2-3e7e-4b4a-9898-5c02cd782483",
   "metadata": {},
   "outputs": [
    {
     "data": {
      "text/plain": [
       "<AxesSubplot:xlabel='ctr9', ylabel='Count'>"
      ]
     },
     "execution_count": 42,
     "metadata": {},
     "output_type": "execute_result"
    },
    {
     "data": {
      "image/png": "[encoded data removed]",
      "text/plain": [
       "<Figure size 842.4x595.44 with 1 Axes>"
      ]
     },
     "metadata": {},
     "output_type": "display_data"
    }
   ],
   "source": [
    "sns.histplot(df_bucket[df_bucket.exp_group == 1].ctr9, bins=10)"
   ]
  },
  {
   "cell_type": "code",
   "execution_count": 43,
   "id": "e0227791-6497-4f15-9a21-ce0f85e92edf",
   "metadata": {},
   "outputs": [
    {
     "data": {
      "text/plain": [
       "<AxesSubplot:xlabel='ctr9', ylabel='Count'>"
      ]
     },
     "execution_count": 43,
     "metadata": {},
     "output_type": "execute_result"
    },
    {
     "data": {
      "image/png": "[encoded data removed]",
      "text/plain": [
       "<Figure size 842.4x595.44 with 1 Axes>"
      ]
     },
     "metadata": {},
     "output_type": "display_data"
    }
   ],
   "source": [
    "sns.histplot(df_bucket[df_bucket.exp_group == 2].ctr9, bins=10)"
   ]
  },
  {
   "cell_type": "markdown",
   "id": "bd508914-5e40-4154-b03b-95cd8e79b53b",
   "metadata": {},
   "source": [
    "#### распределение бакетов 90% квантиля ctr немного похоже на нормальное. сравним их с помощью t-теста и теста Манна-Уитни"
   ]
  },
  {
   "cell_type": "code",
   "execution_count": 44,
   "id": "493d5427-3f7f-4cb4-8ce8-2de09c03c10c",
   "metadata": {},
   "outputs": [
    {
     "data": {
      "text/plain": [
       "Ttest_indResult(statistic=23.214341215937406, pvalue=1.2945537024964474e-40)"
      ]
     },
     "execution_count": 44,
     "metadata": {},
     "output_type": "execute_result"
    }
   ],
   "source": [
    "# t-тест бакетов 90% квантиля ctr\n",
    "stats.ttest_ind(df_bucket[df_bucket.exp_group == 2].ctr9, df_bucket[df_bucket.exp_group == 1].ctr9, equal_var = False)"
   ]
  },
  {
   "cell_type": "markdown",
   "id": "e4153d18-713d-4791-9a2a-eb1fff61752f",
   "metadata": {},
   "source": [
    "#### pvalue < 0,05, соответственно t-тест показывает различия между бакетами 90% квантиля ctr"
   ]
  },
  {
   "cell_type": "code",
   "execution_count": 45,
   "id": "75947b4c-9a74-4772-8ee7-0ea0e398d9c6",
   "metadata": {},
   "outputs": [
    {
     "data": {
      "text/plain": [
       "MannwhitneyuResult(statistic=0.0, pvalue=6.344839189967265e-18)"
      ]
     },
     "execution_count": 45,
     "metadata": {},
     "output_type": "execute_result"
    }
   ],
   "source": [
    "#тест Манна-Уитни поверх бакетов 90% квантиля ctr\n",
    "stats.mannwhitneyu(df_bucket[df_bucket.exp_group == 1].ctr9, \n",
    "                   df_bucket[df_bucket.exp_group == 2].ctr9,\n",
    "                   alternative = 'two-sided')"
   ]
  },
  {
   "cell_type": "markdown",
   "id": "1199e7e5-f530-4781-bed2-bd69423afd65",
   "metadata": {
    "tags": []
   },
   "source": [
    "#### pvalue < 0.05, соответственно тест Манна-Уитни показывает, что есть разница между бакетами 90% квантиля ctr в группах 1 и 2"
   ]
  },
  {
   "cell_type": "markdown",
   "id": "45d72204-80b0-4264-907d-732bc143007a",
   "metadata": {},
   "source": [
    "### Анализ на основании Линеаризованного CTR: 𝑙𝑖𝑛𝑒𝑎𝑟𝑖𝑧𝑒𝑑_𝑙𝑖𝑘𝑒𝑠=𝑙𝑖𝑘𝑒𝑠−𝐶𝑇𝑅𝑐𝑜𝑛𝑡𝑟𝑜𝑙∗𝑣𝑖𝑒𝑤𝑠"
   ]
  },
  {
   "cell_type": "code",
   "execution_count": 46,
   "id": "46ea7525-486d-467f-87cb-688aeaac6435",
   "metadata": {},
   "outputs": [],
   "source": [
    "control_ctr = df[df.exp_group == 1].likes.sum()/df[df.exp_group == 1].views.sum()"
   ]
  },
  {
   "cell_type": "code",
   "execution_count": 47,
   "id": "257e011f-63ea-48f7-af7d-bbc8aa1058e3",
   "metadata": {},
   "outputs": [],
   "source": [
    "# функция для linearized_likes\n",
    "\n",
    "def get_linearized_likes(likes, views, control_ctr):\n",
    "    linearized_likes = (likes - views * control_ctr)\n",
    "    return linearized_likes"
   ]
  },
  {
   "cell_type": "code",
   "execution_count": 48,
   "id": "16a797ef-503e-451d-b2d6-a111935bded7",
   "metadata": {},
   "outputs": [],
   "source": [
    "df['linearized_likes'] = df.apply(lambda x: get_linearized_likes(x['likes'], x['views'], control_ctr), axis=1)"
   ]
  },
  {
   "cell_type": "code",
   "execution_count": 49,
   "id": "8b001353-5458-4134-a897-cf8e08e55f5a",
   "metadata": {},
   "outputs": [
    {
     "data": {
      "text/plain": [
       "<AxesSubplot:xlabel='linearized_likes', ylabel='Count'>"
      ]
     },
     "execution_count": 49,
     "metadata": {},
     "output_type": "execute_result"
    },
    {
     "data": {
      "image/png": "[encoded data removed]",
      "text/plain": [
       "<Figure size 842.4x595.44 with 1 Axes>"
      ]
     },
     "metadata": {},
     "output_type": "display_data"
    }
   ],
   "source": [
    "# визуализируем распределение значений ctr\n",
    "\n",
    "sns.histplot(data=df, \n",
    "             x='linearized_likes', \n",
    "             hue='exp_group', \n",
    "             alpha = 0.5, \n",
    "             kde = False)"
   ]
  },
  {
   "cell_type": "code",
   "execution_count": 50,
   "id": "d6de446b-1e1d-44de-9821-9b33239450d8",
   "metadata": {},
   "outputs": [
    {
     "data": {
      "text/plain": [
       "MannwhitneyuResult(statistic=45771671.0, pvalue=9.404319579641738e-27)"
      ]
     },
     "execution_count": 50,
     "metadata": {},
     "output_type": "execute_result"
    }
   ],
   "source": [
    "# с помощью теста Манна-Уитни проверим гипорезу о равенстве значений в двух выборках\n",
    "\n",
    "stats.mannwhitneyu(df[df.exp_group == 2].linearized_likes, df[df.exp_group == 1].linearized_likes)"
   ]
  },
  {
   "cell_type": "markdown",
   "id": "821acaac-9bf8-47b1-9e31-369f8554e905",
   "metadata": {},
   "source": [
    "#### тест Манна-Уитни показывает, что есть различия среди значений двух выборок"
   ]
  },
  {
   "cell_type": "code",
   "execution_count": 51,
   "id": "d2a30b1c-59df-4615-8582-59f190f25d14",
   "metadata": {},
   "outputs": [
    {
     "name": "stdout",
     "output_type": "stream",
     "text": [
      "В 45.45 % случаев значения выборки 2 больше значений выборки 1.\n"
     ]
    }
   ],
   "source": [
    "A_gt_B = 0\n",
    "\n",
    "for _ in range(10000):\n",
    "    A_gt_B+= df[df.exp_group == 2].linearized_likes.sample().values[0] > df[df.exp_group == 1].linearized_likes.sample().values[0]\n",
    "    \n",
    "print('В', A_gt_B/100, '% случаев значения выборки 2 больше значений выборки 1.')"
   ]
  },
  {
   "cell_type": "markdown",
   "id": "7a980e06-9af6-4ac1-94c9-5205e999850d",
   "metadata": {},
   "source": [
    "#### Гистограммы распределения ctr показали, что распределение ctr 2 группы не похоже на нормальное и имеет 2 пика.\n",
    "#### Тест Манна Уитни по ctr показал, что между группами есть различие, и 57% значений ctr выборки 1 больше выборки 2.\n",
    "#### Тест Манна-Уитни поверх сглаженного ctr тоже показал различие между выборками.\n",
    "#### Пуассоновский бутстреп показал, что группа 1 показала лучший результат ctr, чем группа 2.\n",
    "#### Тест Манна-Уитни поверх бакетного преобразования позаказ различия у бакетных ctr и 90% квантильного ctr.\n",
    "#### t-тест поверх  распределения 90% квантильного ctr показал различия между группами.\n",
    "#### Тест Манна Уитни поверх Линеаризованного CTR показал, что есть различия между группами. Значения группы 1 больше значений группы 2."
   ]
  },
  {
   "cell_type": "markdown",
   "id": "5ced71f6-6248-48ad-8302-4573cd71243e",
   "metadata": {},
   "source": [
    "### Вывод: между ctr двух выборок статистически установлена разница, контрольная группа показала лучший ctr, чем группа с новым алгоритмом рекомендации постов"
   ]
  },
  {
   "cell_type": "markdown",
   "id": "fc8c0f38-043b-440e-9e5c-5a76a97ab443",
   "metadata": {},
   "source": [
    "### Рекомендация: не раскатывать новый алгоритм рекомендации постов на всех новых пользователей."
   ]
  },
  {
   "cell_type": "markdown",
   "id": "b0d2d869-641d-49f3-b8c0-212621ea4024",
   "metadata": {},
   "source": [
    "### Дальнейшее исследование: 2 горб распределения тестовой группы (2) показал результаты выше, чем обычный алгоритм рекомендации постов. Дополнительно необходимо проверить, почему появились 2 горба, нет ли влияния каких-нибудь непредвиденных факторов на проведения A/B-теста"
   ]
  }
 ],
 "metadata": {
  "kernelspec": {
   "display_name": "Python 3 (ipykernel)",
   "language": "python",
   "name": "python3"
  },
  "language_info": {
   "codemirror_mode": {
    "name": "ipython",
    "version": 3
   },
   "file_extension": ".py",
   "mimetype": "text/x-python",
   "name": "python",
   "nbconvert_exporter": "python",
   "pygments_lexer": "ipython3",
   "version": "3.9.12"
  }
 },
 "nbformat": 4,
 "nbformat_minor": 5
}
